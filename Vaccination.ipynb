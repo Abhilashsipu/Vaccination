{
  "nbformat": 4,
  "nbformat_minor": 0,
  "metadata": {
    "colab": {
      "provenance": []
    },
    "kernelspec": {
      "name": "python3",
      "display_name": "Python 3"
    },
    "language_info": {
      "name": "python"
    }
  },
  "cells": [
    {
      "cell_type": "code",
      "execution_count": null,
      "metadata": {
        "colab": {
          "base_uri": "https://localhost:8080/"
        },
        "id": "eXFCRLJ1S_FO",
        "outputId": "10d84af5-7031-4bc7-f7be-d10f917824e6"
      },
      "outputs": [
        {
          "output_type": "stream",
          "name": "stdout",
          "text": [
            "Data preprocessing complete.\n"
          ]
        }
      ],
      "source": [
        "import pandas as pd\n",
        "from sklearn.model_selection import train_test_split\n",
        "from sklearn.preprocessing import StandardScaler, OneHotEncoder\n",
        "from sklearn.compose import ColumnTransformer\n",
        "from sklearn.impute import SimpleImputer\n",
        "from sklearn.pipeline import Pipeline\n",
        "import numpy as np\n",
        "\n",
        "# Load the dataset\n",
        "data = pd.read_csv('training_set_features.csv')\n",
        "\n",
        "# Separate features and target variables\n",
        "X = data.drop(columns=['respondent_id'])\n",
        "y = data[['xyz_vaccine', 'seasonal_vaccine']].astype(int)  # Ensure these columns exist in the dataset\n",
        "\n",
        "# Handle missing values and encode categorical variables\n",
        "numeric_features = X.select_dtypes(include=['int64', 'float64']).columns\n",
        "categorical_features = X.select_dtypes(include=['object']).columns\n",
        "\n",
        "numeric_transformer = Pipeline(steps=[\n",
        "    ('imputer', SimpleImputer(strategy='median')),\n",
        "    ('scaler', StandardScaler())])\n",
        "\n",
        "categorical_transformer = Pipeline(steps=[\n",
        "    ('imputer', SimpleImputer(strategy='most_frequent')),\n",
        "    ('onehot', OneHotEncoder(handle_unknown='ignore'))])\n",
        "\n",
        "preprocessor = ColumnTransformer(\n",
        "    transformers=[\n",
        "        ('num', numeric_transformer, numeric_features),\n",
        "        ('cat', categorical_transformer, categorical_features)])\n",
        "\n",
        "X_preprocessed = preprocessor.fit_transform(X)\n",
        "\n",
        "print(\"Data preprocessing complete.\")\n"
      ]
    },
    {
      "cell_type": "code",
      "source": [
        "import tensorflow as tf\n",
        "from tensorflow.keras.models import Sequential\n",
        "from tensorflow.keras.layers import Dense\n",
        "from sklearn.metrics import roc_auc_score\n",
        "from sklearn.model_selection import KFold\n",
        "\n",
        "# Split the data into training and validation sets\n",
        "X_train, X_val, y_train, y_val = train_test_split(X_preprocessed, y, test_size=0.2, random_state=42)\n",
        "\n",
        "# Build the neural network model\n",
        "def build_model(input_dim):\n",
        "    model = Sequential()\n",
        "    model.add(Dense(64, input_dim=input_dim, activation='relu'))\n",
        "    model.add(Dense(32, activation='relu'))\n",
        "    model.add(Dense(2, activation='sigmoid'))  # Two outputs for multilabel classification\n",
        "    model.compile(optimizer='adam', loss='binary_crossentropy', metrics=['accuracy'])\n",
        "    return model\n",
        "\n",
        "input_dim = X_train.shape[1]\n",
        "model = build_model(input_dim)\n",
        "\n",
        "# Train the model\n",
        "history = model.fit(X_train, y_train, epochs=50, batch_size=32, validation_data=(X_val, y_val))\n",
        "\n",
        "# Validate the model\n",
        "y_pred = model.predict(X_val)\n",
        "\n",
        "# Evaluate the model\n",
        "roc_auc_xyz = roc_auc_score(y_val['xyz_vaccine'], y_pred[:, 0])\n",
        "roc_auc_seasonal = roc_auc_score(y_val['seasonal_vaccine'], y_pred[:, 1])\n",
        "\n",
        "print(f'ROC AUC for XYZ Vaccine: {roc_auc_xyz}')\n",
        "print(f'ROC AUC for Seasonal Vaccine: {roc_auc_seasonal}')\n"
      ],
      "metadata": {
        "colab": {
          "base_uri": "https://localhost:8080/"
        },
        "id": "LxhQ-6drTubp",
        "outputId": "95fb4ae2-1d52-44ed-eb91-35cb1ed61c0c"
      },
      "execution_count": null,
      "outputs": [
        {
          "output_type": "stream",
          "name": "stdout",
          "text": [
            "Epoch 1/50\n",
            "668/668 [==============================] - 3s 3ms/step - loss: 0.0614 - accuracy: 0.4335 - val_loss: 6.1134e-04 - val_accuracy: 0.4730\n",
            "Epoch 2/50\n",
            "668/668 [==============================] - 2s 3ms/step - loss: 2.7283e-04 - accuracy: 0.5020 - val_loss: 1.3381e-04 - val_accuracy: 0.5043\n",
            "Epoch 3/50\n",
            "668/668 [==============================] - 2s 3ms/step - loss: 8.0702e-05 - accuracy: 0.5096 - val_loss: 5.4081e-05 - val_accuracy: 0.5288\n",
            "Epoch 4/50\n",
            "668/668 [==============================] - 2s 3ms/step - loss: 3.6306e-05 - accuracy: 0.5190 - val_loss: 2.7283e-05 - val_accuracy: 0.5092\n",
            "Epoch 5/50\n",
            "668/668 [==============================] - 2s 3ms/step - loss: 1.9298e-05 - accuracy: 0.5199 - val_loss: 1.5335e-05 - val_accuracy: 0.5165\n",
            "Epoch 6/50\n",
            "668/668 [==============================] - 3s 4ms/step - loss: 1.1206e-05 - accuracy: 0.5247 - val_loss: 9.2272e-06 - val_accuracy: 0.5200\n",
            "Epoch 7/50\n",
            "668/668 [==============================] - 2s 3ms/step - loss: 6.8666e-06 - accuracy: 0.5267 - val_loss: 5.7866e-06 - val_accuracy: 0.5260\n",
            "Epoch 8/50\n",
            "668/668 [==============================] - 1s 2ms/step - loss: 4.3555e-06 - accuracy: 0.5261 - val_loss: 3.7288e-06 - val_accuracy: 0.5255\n",
            "Epoch 9/50\n",
            "668/668 [==============================] - 2s 3ms/step - loss: 2.8259e-06 - accuracy: 0.5342 - val_loss: 2.4516e-06 - val_accuracy: 0.5193\n",
            "Epoch 10/50\n",
            "668/668 [==============================] - 2s 3ms/step - loss: 1.8624e-06 - accuracy: 0.5266 - val_loss: 1.6273e-06 - val_accuracy: 0.5373\n",
            "Epoch 11/50\n",
            "668/668 [==============================] - 2s 2ms/step - loss: 1.2413e-06 - accuracy: 0.5341 - val_loss: 1.0924e-06 - val_accuracy: 0.5303\n",
            "Epoch 12/50\n",
            "668/668 [==============================] - 2s 2ms/step - loss: 8.3461e-07 - accuracy: 0.5337 - val_loss: 7.3934e-07 - val_accuracy: 0.5243\n",
            "Epoch 13/50\n",
            "668/668 [==============================] - 3s 4ms/step - loss: 5.6464e-07 - accuracy: 0.5293 - val_loss: 5.0407e-07 - val_accuracy: 0.5425\n",
            "Epoch 14/50\n",
            "668/668 [==============================] - 2s 3ms/step - loss: 3.8386e-07 - accuracy: 0.5386 - val_loss: 3.4422e-07 - val_accuracy: 0.5249\n",
            "Epoch 15/50\n",
            "668/668 [==============================] - 2s 3ms/step - loss: 2.6210e-07 - accuracy: 0.5330 - val_loss: 2.3568e-07 - val_accuracy: 0.5346\n",
            "Epoch 16/50\n",
            "668/668 [==============================] - 2s 2ms/step - loss: 1.7951e-07 - accuracy: 0.5329 - val_loss: 1.6195e-07 - val_accuracy: 0.5444\n",
            "Epoch 17/50\n",
            "668/668 [==============================] - 2s 3ms/step - loss: 1.2340e-07 - accuracy: 0.5377 - val_loss: 1.1181e-07 - val_accuracy: 0.5346\n",
            "Epoch 18/50\n",
            "668/668 [==============================] - 2s 3ms/step - loss: 8.5158e-08 - accuracy: 0.5358 - val_loss: 7.7596e-08 - val_accuracy: 0.5419\n",
            "Epoch 19/50\n",
            "668/668 [==============================] - 2s 2ms/step - loss: 5.9094e-08 - accuracy: 0.5397 - val_loss: 5.4122e-08 - val_accuracy: 0.5380\n",
            "Epoch 20/50\n",
            "668/668 [==============================] - 2s 3ms/step - loss: 4.1303e-08 - accuracy: 0.5399 - val_loss: 3.8123e-08 - val_accuracy: 0.5382\n",
            "Epoch 21/50\n",
            "668/668 [==============================] - 3s 4ms/step - loss: 2.9180e-08 - accuracy: 0.5433 - val_loss: 2.7201e-08 - val_accuracy: 0.5348\n",
            "Epoch 22/50\n",
            "668/668 [==============================] - 2s 3ms/step - loss: 2.0932e-08 - accuracy: 0.5461 - val_loss: 1.9716e-08 - val_accuracy: 0.5440\n",
            "Epoch 23/50\n",
            "668/668 [==============================] - 2s 3ms/step - loss: 1.5274e-08 - accuracy: 0.5501 - val_loss: 1.4568e-08 - val_accuracy: 0.5481\n",
            "Epoch 24/50\n",
            "668/668 [==============================] - 2s 2ms/step - loss: 1.1374e-08 - accuracy: 0.5594 - val_loss: 1.0904e-08 - val_accuracy: 0.5442\n",
            "Epoch 25/50\n",
            "668/668 [==============================] - 2s 3ms/step - loss: 8.6422e-09 - accuracy: 0.5532 - val_loss: 8.4413e-09 - val_accuracy: 0.5571\n",
            "Epoch 26/50\n",
            "668/668 [==============================] - 2s 3ms/step - loss: 6.7432e-09 - accuracy: 0.5591 - val_loss: 6.7000e-09 - val_accuracy: 0.5621\n",
            "Epoch 27/50\n",
            "668/668 [==============================] - 3s 4ms/step - loss: 5.4246e-09 - accuracy: 0.5631 - val_loss: 5.4575e-09 - val_accuracy: 0.5754\n",
            "Epoch 28/50\n",
            "668/668 [==============================] - 3s 4ms/step - loss: 4.4411e-09 - accuracy: 0.5705 - val_loss: 4.6135e-09 - val_accuracy: 0.5777\n",
            "Epoch 29/50\n",
            "668/668 [==============================] - 2s 3ms/step - loss: 3.7605e-09 - accuracy: 0.5762 - val_loss: 3.8563e-09 - val_accuracy: 0.5728\n",
            "Epoch 30/50\n",
            "668/668 [==============================] - 2s 2ms/step - loss: 3.2356e-09 - accuracy: 0.5797 - val_loss: 3.3393e-09 - val_accuracy: 0.5803\n",
            "Epoch 31/50\n",
            "668/668 [==============================] - 1s 2ms/step - loss: 2.8272e-09 - accuracy: 0.5825 - val_loss: 2.9843e-09 - val_accuracy: 0.5942\n",
            "Epoch 32/50\n",
            "668/668 [==============================] - 2s 3ms/step - loss: 2.5417e-09 - accuracy: 0.5892 - val_loss: 2.6654e-09 - val_accuracy: 0.5818\n",
            "Epoch 33/50\n",
            "668/668 [==============================] - 2s 3ms/step - loss: 2.3225e-09 - accuracy: 0.5851 - val_loss: 2.4148e-09 - val_accuracy: 0.5726\n",
            "Epoch 34/50\n",
            "668/668 [==============================] - 3s 4ms/step - loss: 2.1051e-09 - accuracy: 0.5774 - val_loss: 2.2532e-09 - val_accuracy: 0.5850\n",
            "Epoch 35/50\n",
            "668/668 [==============================] - 2s 4ms/step - loss: 1.9498e-09 - accuracy: 0.5745 - val_loss: 2.0805e-09 - val_accuracy: 0.5947\n",
            "Epoch 36/50\n",
            "668/668 [==============================] - 2s 3ms/step - loss: 1.8078e-09 - accuracy: 0.5890 - val_loss: 1.9852e-09 - val_accuracy: 0.5872\n",
            "Epoch 37/50\n",
            "668/668 [==============================] - 2s 2ms/step - loss: 1.7320e-09 - accuracy: 0.5809 - val_loss: 1.8224e-09 - val_accuracy: 0.5826\n",
            "Epoch 38/50\n",
            "668/668 [==============================] - 1s 2ms/step - loss: 1.5871e-09 - accuracy: 0.5826 - val_loss: 1.7126e-09 - val_accuracy: 0.5803\n",
            "Epoch 39/50\n",
            "668/668 [==============================] - 4s 5ms/step - loss: 1.5199e-09 - accuracy: 0.5778 - val_loss: 1.6108e-09 - val_accuracy: 0.5811\n",
            "Epoch 40/50\n",
            "668/668 [==============================] - 6s 10ms/step - loss: 1.4490e-09 - accuracy: 0.5794 - val_loss: 1.5692e-09 - val_accuracy: 0.5816\n",
            "Epoch 41/50\n",
            "668/668 [==============================] - 2s 2ms/step - loss: 1.3647e-09 - accuracy: 0.5683 - val_loss: 1.5183e-09 - val_accuracy: 0.5818\n",
            "Epoch 42/50\n",
            "668/668 [==============================] - 2s 2ms/step - loss: 1.3544e-09 - accuracy: 0.5716 - val_loss: 1.4667e-09 - val_accuracy: 0.5797\n",
            "Epoch 43/50\n",
            "668/668 [==============================] - 2s 3ms/step - loss: 1.2999e-09 - accuracy: 0.5733 - val_loss: 1.4261e-09 - val_accuracy: 0.5827\n",
            "Epoch 44/50\n",
            "668/668 [==============================] - 2s 2ms/step - loss: 1.2594e-09 - accuracy: 0.5751 - val_loss: 1.3716e-09 - val_accuracy: 0.5841\n",
            "Epoch 45/50\n",
            "668/668 [==============================] - 6s 8ms/step - loss: 1.2279e-09 - accuracy: 0.5812 - val_loss: 1.3425e-09 - val_accuracy: 0.5861\n",
            "Epoch 46/50\n",
            "668/668 [==============================] - 7s 11ms/step - loss: 1.1922e-09 - accuracy: 0.5803 - val_loss: 1.2938e-09 - val_accuracy: 0.5801\n",
            "Epoch 47/50\n",
            "668/668 [==============================] - 5s 7ms/step - loss: 1.1655e-09 - accuracy: 0.5804 - val_loss: 1.2758e-09 - val_accuracy: 0.5796\n",
            "Epoch 48/50\n",
            "668/668 [==============================] - 4s 5ms/step - loss: 1.1394e-09 - accuracy: 0.5772 - val_loss: 1.2540e-09 - val_accuracy: 0.5818\n",
            "Epoch 49/50\n",
            "668/668 [==============================] - 2s 3ms/step - loss: 1.1377e-09 - accuracy: 0.5770 - val_loss: 1.2457e-09 - val_accuracy: 0.5884\n",
            "Epoch 50/50\n",
            "668/668 [==============================] - 2s 3ms/step - loss: 1.1315e-09 - accuracy: 0.5818 - val_loss: 1.2447e-09 - val_accuracy: 0.5831\n",
            "167/167 [==============================] - 0s 1ms/step\n",
            "ROC AUC for XYZ Vaccine: 1.0\n",
            "ROC AUC for Seasonal Vaccine: 1.0\n"
          ]
        }
      ]
    },
    {
      "cell_type": "code",
      "source": [
        "# Perform cross-validation\n",
        "kf = KFold(n_splits=5, shuffle=True, random_state=42)\n",
        "roc_auc_scores_xyz = []\n",
        "roc_auc_scores_seasonal = []\n",
        "\n",
        "for train_index, val_index in kf.split(X_preprocessed):\n",
        "    X_train_cv, X_val_cv = X_preprocessed[train_index], X_preprocessed[val_index]\n",
        "    y_train_cv, y_val_cv = y.iloc[train_index], y.iloc[val_index]\n",
        "\n",
        "    model_cv = build_model(input_dim)\n",
        "    model_cv.fit(X_train_cv, y_train_cv, epochs=50, batch_size=32, verbose=0)\n",
        "\n",
        "    y_pred_cv = model_cv.predict(X_val_cv)\n",
        "    roc_auc_xyz_cv = roc_auc_score(y_val_cv['xyz_vaccine'], y_pred_cv[:, 0])\n",
        "    roc_auc_seasonal_cv = roc_auc_score(y_val_cv['seasonal_vaccine'], y_pred_cv[:, 1])\n",
        "\n",
        "    roc_auc_scores_xyz.append(roc_auc_xyz_cv)\n",
        "    roc_auc_scores_seasonal.append(roc_auc_seasonal_cv)\n",
        "\n",
        "print(f'Cross-validated ROC AUC for XYZ Vaccine: {np.mean(roc_auc_scores_xyz)}')\n",
        "print(f'Cross-validated ROC AUC for Seasonal Vaccine: {np.mean(roc_auc_scores_seasonal)}')\n"
      ],
      "metadata": {
        "colab": {
          "base_uri": "https://localhost:8080/"
        },
        "id": "-6rN8XHgUFJz",
        "outputId": "b6b90924-eefd-455b-fc73-db47e989513f"
      },
      "execution_count": null,
      "outputs": [
        {
          "output_type": "stream",
          "name": "stdout",
          "text": [
            "167/167 [==============================] - 0s 2ms/step\n",
            "167/167 [==============================] - 0s 1ms/step\n",
            "167/167 [==============================] - 0s 1ms/step\n",
            "167/167 [==============================] - 1s 3ms/step\n",
            "167/167 [==============================] - 0s 1ms/step\n",
            "Cross-validated ROC AUC for XYZ Vaccine: 1.0\n",
            "Cross-validated ROC AUC for Seasonal Vaccine: 1.0\n"
          ]
        }
      ]
    },
    {
      "cell_type": "code",
      "source": [
        "# Load test data\n",
        "test_data = pd.read_csv('test_set_features.csv')  # Adjust path if necessary\n",
        "test_ids = test_data['respondent_id']\n",
        "X_test = test_data.drop(columns=['respondent_id'])\n",
        "\n",
        "# Preprocess the test data\n",
        "X_test_preprocessed = preprocessor.transform(X_test)\n",
        "\n",
        "# Make predictions\n",
        "test_pred = model.predict(X_test_preprocessed)\n",
        "\n",
        "# Prepare submission file\n",
        "submission = pd.DataFrame({\n",
        "    'respondent_id': test_ids,\n",
        "    'xyz_vaccine': test_pred[:, 0],\n",
        "    'seasonal_vaccine': test_pred[:, 1]\n",
        "})\n",
        "\n",
        "submission.to_csv('submission.csv', index=False)\n",
        "print(\"Submission file created.\")\n"
      ],
      "metadata": {
        "colab": {
          "base_uri": "https://localhost:8080/"
        },
        "id": "Ib4sunroePUl",
        "outputId": "4c97b86e-6229-4fef-da6d-0ab1ca0ecf6b"
      },
      "execution_count": null,
      "outputs": [
        {
          "output_type": "stream",
          "name": "stdout",
          "text": [
            "835/835 [==============================] - 3s 3ms/step\n",
            "Submission file created.\n"
          ]
        }
      ]
    }
  ]
}